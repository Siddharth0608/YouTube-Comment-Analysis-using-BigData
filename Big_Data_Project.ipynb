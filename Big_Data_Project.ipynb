{
 "cells": [
  {
   "cell_type": "code",
   "execution_count": null,
   "metadata": {
    "id": "DVQvUhF1JhjB"
   },
   "outputs": [],
   "source": [
    "\n",
    "import os\n",
    "\n",
    "import googleapiclient.discovery\n",
    "\n",
    "import csv\n"
   ]
  },
  {
   "cell_type": "code",
   "execution_count": null,
   "metadata": {
    "colab": {
     "base_uri": "https://localhost:8080/"
    },
    "id": "-uRsGaepJm8b",
    "outputId": "39411cd7-3e29-4258-c2bb-3ed865e789c1"
   },
   "outputs": [
    {
     "name": "stdout",
     "output_type": "stream",
     "text": [
      "{'kind': 'youtube#commentThreadListResponse', 'etag': 'BCToZF43WhtUCO_oxXQlqTl0-bo', 'nextPageToken': 'Z2V0X3JhbmtlZF9zdHJlYW1zLS1DcVVCQ0lBRUZSZTMwVGdhbWdFS2xRRUkyRjhRZ0FRWUJ5S0tBUnZicUprQ19KM1RqTWtjdWQzY2xGZXhhSTFMWVRwLVRDV05maU5wbGZaVm9oSzlQdHlRQ0d5c3BpcFhKQWV4NUlpcFgyWTl3MlduSFQ0ZjVoRTdOQmJMRldhZVJOWXY1Wm13UDJGQXhucV9BQ0xFaFVFREVRbVVUTC1iTzZ0ZWxZUjRJQ1BnWC1NUzJFcWFvdXowNzVkb1FiZnBsRndlTGpod1J4cEljTUMtMWhkMHBKdzJpS0VzQVJBVUVnVUlpQ0FZQUJJSENKY2dFQThZQVJJRkNJY2dHQUFTQndpRklCQUtHQUVTQndpRUlCQVVHQUVTQlFpSklCZ0FFZ1VJaGlBWUFCZ0E=', 'pageInfo': {'totalResults': 20, 'resultsPerPage': 20}, 'items': [{'kind': 'youtube#commentThread', 'etag': 'dQbWc1NTin2SvD-XD5yw1liudmU', 'id': 'Ugz7xZY5ZM_f-8WnVo94AaABAg', 'snippet': {'videoId': 'kEYiXE7OgwY', 'topLevelComment': {'kind': 'youtube#comment', 'etag': 'gYvD59gCP9saJ-p_CetjHamEXyU', 'id': 'Ugz7xZY5ZM_f-8WnVo94AaABAg', 'snippet': {'videoId': 'kEYiXE7OgwY', 'textDisplay': 'This insurrection gives hope to my uncle, who runs a hotdog stand succesfully but has dreams of starting his own mercenary army.', 'textOriginal': 'This insurrection gives hope to my uncle, who runs a hotdog stand succesfully but has dreams of starting his own mercenary army.', 'authorDisplayName': 'Light of the World', 'authorProfileImageUrl': 'https://yt3.ggpht.com/ytc/AOPolaSpfcbsGe-GvmyPDva3-8CNz1Kg6RWZs3Oiow=s48-c-k-c0x00ffffff-no-rj', 'authorChannelUrl': 'http://www.youtube.com/channel/UCwC7Fq10BVdEMjMSDwtGBFg', 'authorChannelId': {'value': 'UCwC7Fq10BVdEMjMSDwtGBFg'}, 'canRate': True, 'viewerRating': 'none', 'likeCount': 2573, 'publishedAt': '2023-06-25T09:53:02Z', 'updatedAt': '2023-06-25T09:53:02Z'}}, 'canReply': True, 'totalReplyCount': 124, 'isPublic': True}}, {'kind': 'youtube#commentThread', 'etag': 'D8qAuLg3xDC7B4N0zxNT2g_aU8Y', 'id': 'UgyYaliIoMklQhthzJ14AaABAg', 'snippet': {'videoId': 'kEYiXE7OgwY', 'topLevelComment': {'kind': 'youtube#comment', 'etag': '242k0Iwx4TbtLrhQiiS4LOmvWb4', 'id': 'UgyYaliIoMklQhthzJ14AaABAg', 'snippet': {'videoId': 'kEYiXE7OgwY', 'textDisplay': 'To loose a Loved one is hard at all time, yet loosing someone in war makes that loss feel senseless even more. I&#39;m sorry for your loss as many Others. You are Not alone.❤❤', 'textOriginal': \"To loose a Loved one is hard at all time, yet loosing someone in war makes that loss feel senseless even more. I'm sorry for your loss as many Others. You are Not alone.❤❤\", 'authorDisplayName': 'René Hasselmeier', 'authorProfileImageUrl': 'https://yt3.ggpht.com/ytc/AOPolaQGmY3zhMtKcUWqomXJv0SA6ZPiHxEjt6lZPbyd=s48-c-k-c0x00ffffff-no-rj', 'authorChannelUrl': 'http://www.youtube.com/channel/UCoVMW0sEpYu0JwaLDJu-1uw', 'authorChannelId': {'value': 'UCoVMW0sEpYu0JwaLDJu-1uw'}, 'canRate': True, 'viewerRating': 'none', 'likeCount': 17, 'publishedAt': '2023-06-27T06:42:50Z', 'updatedAt': '2023-06-27T06:42:50Z'}}, 'canReply': True, 'totalReplyCount': 5, 'isPublic': True}}, {'kind': 'youtube#commentThread', 'etag': 'AqWw1xAjVx3TdsKF0lDPspRGcgg', 'id': 'UgyD5G5EJO-OCCa34tt4AaABAg', 'snippet': {'videoId': 'kEYiXE7OgwY', 'topLevelComment': {'kind': 'youtube#comment', 'etag': '6hEVWKNusHzjuaRfNPe-3rkbbJA', 'id': 'UgyD5G5EJO-OCCa34tt4AaABAg', 'snippet': {'videoId': 'kEYiXE7OgwY', 'textDisplay': 'Prigozhin was never openly critical of the Putin&#39;s approach of the war as you mention. He was critical of the way the Generals below Putin approached the war. That is why Putin allowed him to fight in the war, to see if Progozhin&#39;s group could perform better in the war. Without Putin he wouldn&#39;t have been involved in the war.', 'textOriginal': \"Prigozhin was never openly critical of the Putin's approach of the war as you mention. He was critical of the way the Generals below Putin approached the war. That is why Putin allowed him to fight in the war, to see if Progozhin's group could perform better in the war. Without Putin he wouldn't have been involved in the war.\", 'authorDisplayName': 'RzN', 'authorProfileImageUrl': 'https://yt3.ggpht.com/ytc/AOPolaTgyC6slwotFOlW6RL7ARwcvO0rMf0m-kXvm_0-VA=s48-c-k-c0x00ffffff-no-rj', 'authorChannelUrl': 'http://www.youtube.com/channel/UCbLiNwjdN7FL8G8a6JyW14Q', 'authorChannelId': {'value': 'UCbLiNwjdN7FL8G8a6JyW14Q'}, 'canRate': True, 'viewerRating': 'none', 'likeCount': 58, 'publishedAt': '2023-06-26T07:24:17Z', 'updatedAt': '2023-06-27T04:43:00Z'}}, 'canReply': True, 'totalReplyCount': 19, 'isPublic': True}}, {'kind': 'youtube#commentThread', 'etag': 'oRaxRCd41JIl3NzMeB_-Kzcy1Zc', 'id': 'UgzD-NtF1aLsYfL6ZjJ4AaABAg', 'snippet': {'videoId': 'kEYiXE7OgwY', 'topLevelComment': {'kind': 'youtube#comment', 'etag': '6TQEYHlJ1Ibla19RMoxWzkG2BVs', 'id': 'UgzD-NtF1aLsYfL6ZjJ4AaABAg', 'snippet': {'videoId': 'kEYiXE7OgwY', 'textDisplay': 'My condolences go out to his family for the accidental car crash next week', 'textOriginal': 'My condolences go out to his family for the accidental car crash next week', 'authorDisplayName': 'Kayi Tribe', 'authorProfileImageUrl': 'https://yt3.ggpht.com/ytc/AOPolaQTk0STkk5qKmn1v8LXFsBb46QmupnbHGxR8A=s48-c-k-c0x00ffffff-no-rj', 'authorChannelUrl': 'http://www.youtube.com/channel/UCyOs6uNAvaIQW-jvnVHp5mg', 'authorChannelId': {'value': 'UCyOs6uNAvaIQW-jvnVHp5mg'}, 'canRate': True, 'viewerRating': 'none', 'likeCount': 224, 'publishedAt': '2023-06-26T02:43:19Z', 'updatedAt': '2023-06-26T02:43:19Z'}}, 'canReply': True, 'totalReplyCount': 8, 'isPublic': True}}, {'kind': 'youtube#commentThread', 'etag': '2GekGGNz6NQaTOAVDRFaOQNaFpk', 'id': 'Ugyo_cqoWk_s3Bo0zoN4AaABAg', 'snippet': {'videoId': 'kEYiXE7OgwY', 'topLevelComment': {'kind': 'youtube#comment', 'etag': 'v7-FOcaHj1DHcfgNUwzUpVraiRc', 'id': 'Ugyo_cqoWk_s3Bo0zoN4AaABAg', 'snippet': {'videoId': 'kEYiXE7OgwY', 'textDisplay': 'This is the only chaos I saw where the locals are cheering for the armed personnel involved. I saw the locals taking selfies, smiling ang all. Quite a new definition of chaos.', 'textOriginal': 'This is the only chaos I saw where the locals are cheering for the armed personnel involved. I saw the locals taking selfies, smiling ang all. Quite a new definition of chaos.', 'authorDisplayName': 'ReyLis', 'authorProfileImageUrl': 'https://yt3.ggpht.com/ytc/AOPolaRe_3Bc28RceD8blP3oIIWBcsXJE2ew6qWAzw=s48-c-k-c0x00ffffff-no-rj', 'authorChannelUrl': 'http://www.youtube.com/channel/UCuSiKQHmqmMSeEv5yftPVbw', 'authorChannelId': {'value': 'UCuSiKQHmqmMSeEv5yftPVbw'}, 'canRate': True, 'viewerRating': 'none', 'likeCount': 7, 'publishedAt': '2023-06-28T15:38:54Z', 'updatedAt': '2023-06-28T15:38:54Z'}}, 'canReply': True, 'totalReplyCount': 1, 'isPublic': True}}, {'kind': 'youtube#commentThread', 'etag': 'gP4uI6uxYiEmUkS03DG2lhekoEc', 'id': 'UgzVrYbG4okDaBJgyxJ4AaABAg', 'snippet': {'videoId': 'kEYiXE7OgwY', 'topLevelComment': {'kind': 'youtube#comment', 'etag': 'gISa0JjNhpE3h4R4A_Tcv4hNuxQ', 'id': 'UgzVrYbG4okDaBJgyxJ4AaABAg', 'snippet': {'videoId': 'kEYiXE7OgwY', 'textDisplay': 'Prigozhin wasn&#39;t against Putin, at least not on surface, he was against Russian military leaders. The two top military chiefs he was against has been relieved of duty, that&#39;s why they stopped and celebrating victory.', 'textOriginal': \"Prigozhin wasn't against Putin, at least not on surface, he was against Russian military leaders. The two top military chiefs he was against has been relieved of duty, that's why they stopped and celebrating victory.\", 'authorDisplayName': 'penitent2401', 'authorProfileImageUrl': 'https://yt3.ggpht.com/ytc/AOPolaRJARxgl8h5d2McSDjasEhmHrTr7-OwTVHtsw=s48-c-k-c0x00ffffff-no-rj', 'authorChannelUrl': 'http://www.youtube.com/channel/UCSxHhPsOrmcpQo3NGlG3m2Q', 'authorChannelId': {'value': 'UCSxHhPsOrmcpQo3NGlG3m2Q'}, 'canRate': True, 'viewerRating': 'none', 'likeCount': 326, 'publishedAt': '2023-06-25T13:56:11Z', 'updatedAt': '2023-06-25T13:56:11Z'}}, 'canReply': True, 'totalReplyCount': 50, 'isPublic': True}}, {'kind': 'youtube#commentThread', 'etag': 'gOnEh3l7152A__SqXqAZHma0ryU', 'id': 'UgyXXdwdvuKsr-fnfhN4AaABAg', 'snippet': {'videoId': 'kEYiXE7OgwY', 'topLevelComment': {'kind': 'youtube#comment', 'etag': 'RPPNCuxAwlJVC5qpj64faxtldDk', 'id': 'UgyXXdwdvuKsr-fnfhN4AaABAg', 'snippet': {'videoId': 'kEYiXE7OgwY', 'textDisplay': 'I&#39;m currently reading a book about the 1917 Revolution and Civil War. There are weird parallels with what has just happened to events just prior to the October revolution when Kerensky successfully halted a march on Petrograd by the top General who was believed to be on his way to overthrow the provisional government. Just a few weeks afterwards the Bolsheviks staged their coup and Lenin assumed power leading to 70 years of the Soviet Union. We can expect the unexpected anytime soon. Just when great authoritarian powers appear to be at their height then very soon they crumble.', 'textOriginal': \"I'm currently reading a book about the 1917 Revolution and Civil War. There are weird parallels with what has just happened to events just prior to the October revolution when Kerensky successfully halted a march on Petrograd by the top General who was believed to be on his way to overthrow the provisional government. Just a few weeks afterwards the Bolsheviks staged their coup and Lenin assumed power leading to 70 years of the Soviet Union. We can expect the unexpected anytime soon. Just when great authoritarian powers appear to be at their height then very soon they crumble.\", 'authorDisplayName': 'Moutton Noir', 'authorProfileImageUrl': 'https://yt3.ggpht.com/ytc/AOPolaSTkoXDjJWIU3Fme3Yf9Y4xlPEZip51dkzBO1sG=s48-c-k-c0x00ffffff-no-rj', 'authorChannelUrl': 'http://www.youtube.com/channel/UCnRa2U1tlYRdCZPCsSOdKqQ', 'authorChannelId': {'value': 'UCnRa2U1tlYRdCZPCsSOdKqQ'}, 'canRate': True, 'viewerRating': 'none', 'likeCount': 242, 'publishedAt': '2023-06-25T14:33:04Z', 'updatedAt': '2023-06-25T14:33:04Z'}}, 'canReply': True, 'totalReplyCount': 59, 'isPublic': True}}, {'kind': 'youtube#commentThread', 'etag': 'ylRvCb6ljrd2ueCwPiY15K2bDyA', 'id': 'Ugy7QTEVbDyhIb18IZx4AaABAg', 'snippet': {'videoId': 'kEYiXE7OgwY', 'topLevelComment': {'kind': 'youtube#comment', 'etag': 'vqfb561---35wqVN-fbMgL-QdQY', 'id': 'Ugy7QTEVbDyhIb18IZx4AaABAg', 'snippet': {'videoId': 'kEYiXE7OgwY', 'textDisplay': 'Bravo Prigozhin, you started it, and someone shall surely end it.. My condolences for his upcoming accidental death..', 'textOriginal': 'Bravo Prigozhin, you started it, and someone shall surely end it.. My condolences for his upcoming accidental death..', 'authorDisplayName': 'Myla Rutledge', 'authorProfileImageUrl': 'https://yt3.ggpht.com/ytc/AOPolaTimQ2CVmjKxGR2MI0frNftZ54NtaNwj9jQJjuyannTCtFfS7scotCayhkgtFV7=s48-c-k-c0x00ffffff-no-rj', 'authorChannelUrl': 'http://www.youtube.com/channel/UCnY8CgPqQ0doYUSbf8RsUoQ', 'authorChannelId': {'value': 'UCnY8CgPqQ0doYUSbf8RsUoQ'}, 'canRate': True, 'viewerRating': 'none', 'likeCount': 87, 'publishedAt': '2023-06-26T10:13:01Z', 'updatedAt': '2023-06-26T10:13:01Z'}}, 'canReply': True, 'totalReplyCount': 16, 'isPublic': True}}, {'kind': 'youtube#commentThread', 'etag': 'lPBNHRcffZo9z-qzJXyLCSyLfoc', 'id': 'UgyInMpIvRezjMx2x8R4AaABAg', 'snippet': {'videoId': 'kEYiXE7OgwY', 'topLevelComment': {'kind': 'youtube#comment', 'etag': '79rH_dQUlBdIn4xct5dxXzEpPpI', 'id': 'UgyInMpIvRezjMx2x8R4AaABAg', 'snippet': {'videoId': 'kEYiXE7OgwY', 'textDisplay': '&quot;I believed that certain individuals could be trusted, that they genuinely loved their Motherland as true patriots, down to the very core of their being. BUT it has become evident that, driven by personal ambitions, greed, and arrogance, some people are willing to disregard any sense of affection and love for their Fatherland.&quot;<br>~ RAMZAN KADYROV, Head of Chechen Republic on Wagner PMC oligarch Yevgeny Prigozhin<br>25 June 2023', 'textOriginal': '\"I believed that certain individuals could be trusted, that they genuinely loved their Motherland as true patriots, down to the very core of their being. BUT it has become evident that, driven by personal ambitions, greed, and arrogance, some people are willing to disregard any sense of affection and love for their Fatherland.\"\\n~ RAMZAN KADYROV, Head of Chechen Republic on Wagner PMC oligarch Yevgeny Prigozhin\\n25 June 2023', 'authorDisplayName': 'zaini abdullah', 'authorProfileImageUrl': 'https://yt3.ggpht.com/ytc/AOPolaTYUgQbZShnrQaJOZAex4eL5VHPCC7lPrOFuA=s48-c-k-c0x00ffffff-no-rj', 'authorChannelUrl': 'http://www.youtube.com/channel/UCW5aDKAuSEah9MKZpOtB2QQ', 'authorChannelId': {'value': 'UCW5aDKAuSEah9MKZpOtB2QQ'}, 'canRate': True, 'viewerRating': 'none', 'likeCount': 9, 'publishedAt': '2023-06-25T23:47:24Z', 'updatedAt': '2023-06-25T23:47:24Z'}}, 'canReply': True, 'totalReplyCount': 2, 'isPublic': True}}, {'kind': 'youtube#commentThread', 'etag': 'r9VUh1cSca-JexeuOxjlXJczXhc', 'id': 'UgwQOEhRmMcSJXESfFh4AaABAg', 'snippet': {'videoId': 'kEYiXE7OgwY', 'topLevelComment': {'kind': 'youtube#comment', 'etag': 'kFb_juQ45bYuFWDbHuaT9SMEmZY', 'id': 'UgwQOEhRmMcSJXESfFh4AaABAg', 'snippet': {'videoId': 'kEYiXE7OgwY', 'textDisplay': 'Nothing is worse than starting something risky but lacking the will and courage to finish it. Basically he has crossed the Rubicon. Either you become emperor or you get killed by the emperor. If he went all the way, maybe he may still be remembered as a hero and could possibly end the war quickly', 'textOriginal': 'Nothing is worse than starting something risky but lacking the will and courage to finish it. Basically he has crossed the Rubicon. Either you become emperor or you get killed by the emperor. If he went all the way, maybe he may still be remembered as a hero and could possibly end the war quickly', 'authorDisplayName': 'Parrot Brand', 'authorProfileImageUrl': 'https://yt3.ggpht.com/ytc/AOPolaSauS-ZoBEhul49jfnr1wD25EHbr2DS1w0m0g=s48-c-k-c0x00ffffff-no-rj', 'authorChannelUrl': 'http://www.youtube.com/channel/UCKr6VXHXMSu46XCrOiLXG2g', 'authorChannelId': {'value': 'UCKr6VXHXMSu46XCrOiLXG2g'}, 'canRate': True, 'viewerRating': 'none', 'likeCount': 7, 'publishedAt': '2023-06-27T03:08:42Z', 'updatedAt': '2023-06-27T03:09:05Z'}}, 'canReply': True, 'totalReplyCount': 1, 'isPublic': True}}, {'kind': 'youtube#commentThread', 'etag': 'xy1ZCjknKK3GRYD158YNSUf5g1c', 'id': 'UgywQO9lCP3_ApU4z2t4AaABAg', 'snippet': {'videoId': 'kEYiXE7OgwY', 'topLevelComment': {'kind': 'youtube#comment', 'etag': 'QNTfxW_Hm3oplLbHDWOin6I2Ixg', 'id': 'UgywQO9lCP3_ApU4z2t4AaABAg', 'snippet': {'videoId': 'kEYiXE7OgwY', 'textDisplay': 'I hope the injured Aleksander is okay, and recovers well. I&#39;ve seen him in another report. He&#39;s a tough guy with a good heart.', 'textOriginal': \"I hope the injured Aleksander is okay, and recovers well. I've seen him in another report. He's a tough guy with a good heart.\", 'authorDisplayName': 'Jonathan Strange', 'authorProfileImageUrl': 'https://yt3.ggpht.com/ytc/AOPolaTATdEgFpop9yRMOkF7GnOA2vw0HUwIqa-XRV1qEA=s48-c-k-c0x00ffffff-no-rj', 'authorChannelUrl': 'http://www.youtube.com/channel/UCQ_S0H2aAqqHpzWfNR0l4NA', 'authorChannelId': {'value': 'UCQ_S0H2aAqqHpzWfNR0l4NA'}, 'canRate': True, 'viewerRating': 'none', 'likeCount': 109, 'publishedAt': '2023-06-25T10:23:02Z', 'updatedAt': '2023-06-25T10:23:02Z'}}, 'canReply': True, 'totalReplyCount': 7, 'isPublic': True}}, {'kind': 'youtube#commentThread', 'etag': 'OFADQ377PcFC_iTI3N3RUqdT654', 'id': 'UgzCWy2sdL_eFMRaQzl4AaABAg', 'snippet': {'videoId': 'kEYiXE7OgwY', 'topLevelComment': {'kind': 'youtube#comment', 'etag': 'AtETuyhJuFYSA3QeHlwcbrKHPBs', 'id': 'UgzCWy2sdL_eFMRaQzl4AaABAg', 'snippet': {'videoId': 'kEYiXE7OgwY', 'textDisplay': 'i mean this is pretty much common throughout human history; the concept of a national army that is centralized and upholds loyalty and executes action on behalf of the state is quite new. Often times human civilizations have relied on both sovereign militaries and separate autonomous mercenary groups who fight for money and power. Piss off one of the groups when the sovereign is weak, corrupt, and bankrupt, the whole damn country falls apart', 'textOriginal': 'i mean this is pretty much common throughout human history; the concept of a national army that is centralized and upholds loyalty and executes action on behalf of the state is quite new. Often times human civilizations have relied on both sovereign militaries and separate autonomous mercenary groups who fight for money and power. Piss off one of the groups when the sovereign is weak, corrupt, and bankrupt, the whole damn country falls apart', 'authorDisplayName': 'User says', 'authorProfileImageUrl': 'https://yt3.ggpht.com/ytc/AOPolaTpFn78VGFMl9URYCfBI4Hv7kWmAs3pgKVdI5q_-w=s48-c-k-c0x00ffffff-no-rj', 'authorChannelUrl': 'http://www.youtube.com/channel/UCTNCwZo_wWA_489w1ZqOvvw', 'authorChannelId': {'value': 'UCTNCwZo_wWA_489w1ZqOvvw'}, 'canRate': True, 'viewerRating': 'none', 'likeCount': 18, 'publishedAt': '2023-06-25T21:07:54Z', 'updatedAt': '2023-06-25T21:08:53Z'}}, 'canReply': True, 'totalReplyCount': 4, 'isPublic': True}}, {'kind': 'youtube#commentThread', 'etag': 'RAXAQ79f_GDyIHMTX03LpIOCSF0', 'id': 'Ugxx1JQjvokQKrHW3UF4AaABAg', 'snippet': {'videoId': 'kEYiXE7OgwY', 'topLevelComment': {'kind': 'youtube#comment', 'etag': 'LyTHIWkMi8gRVwPY9pGqzKdLUtk', 'id': 'Ugxx1JQjvokQKrHW3UF4AaABAg', 'snippet': {'videoId': 'kEYiXE7OgwY', 'textDisplay': 'In the Voronezh region of Russia, 19 houses were damaged due to a shootout during the passage of the Wagner PMC.\\r<br>Nearly 20 households were damaged as a result of a firefight that occurred during the passage on Saturday of a column of PMC &quot;Wagner&quot; in the Voronezh region. The territory that has fallen into the shelling zone is examined by local authorities in cooperation with specialists from the institution &quot;Civil Defense, Population Protection and Fire Safety of the Voronezh Region&quot;', 'textOriginal': 'In the Voronezh region of Russia, 19 houses were damaged due to a shootout during the passage of the Wagner PMC.\\r\\nNearly 20 households were damaged as a result of a firefight that occurred during the passage on Saturday of a column of PMC \"Wagner\" in the Voronezh region. The territory that has fallen into the shelling zone is examined by local authorities in cooperation with specialists from the institution \"Civil Defense, Population Protection and Fire Safety of the Voronezh Region\"', 'authorDisplayName': 'Roman Russian', 'authorProfileImageUrl': 'https://yt3.ggpht.com/YRUPfZ4r9_75g0K_nL_CvnAbjCAip5YZIOtfBM0Ah5ls5uffqtjHzv2QwYjRL6TTtPLEi4wiIA=s48-c-k-c0x00ffffff-no-rj', 'authorChannelUrl': 'http://www.youtube.com/channel/UCe0aFgnFm4GEUxWOPZxbt1Q', 'authorChannelId': {'value': 'UCe0aFgnFm4GEUxWOPZxbt1Q'}, 'canRate': True, 'viewerRating': 'none', 'likeCount': 3, 'publishedAt': '2023-06-26T10:05:17Z', 'updatedAt': '2023-06-26T10:05:17Z'}}, 'canReply': True, 'totalReplyCount': 2, 'isPublic': True}}, {'kind': 'youtube#commentThread', 'etag': 'G3B8Ax-FnENSw5_A0H-ivciqVac', 'id': 'UgzXNV6pseEZvua4rIF4AaABAg', 'snippet': {'videoId': 'kEYiXE7OgwY', 'topLevelComment': {'kind': 'youtube#comment', 'etag': 'IZp_3ML9SCEpuaZB90CJDpDT8fk', 'id': 'UgzXNV6pseEZvua4rIF4AaABAg', 'snippet': {'videoId': 'kEYiXE7OgwY', 'textDisplay': 'Fantastic reporting, thanks to all involved, this is all so tragic and unnecessary.', 'textOriginal': 'Fantastic reporting, thanks to all involved, this is all so tragic and unnecessary.', 'authorDisplayName': 'James Pardue', 'authorProfileImageUrl': 'https://yt3.ggpht.com/ytc/AOPolaT5KKSERFayjlJGbIpyDL61wXe59NR17CZ9sA=s48-c-k-c0x00ffffff-no-rj', 'authorChannelUrl': 'http://www.youtube.com/channel/UCU5wVT1czp0hCJIDihcPgNw', 'authorChannelId': {'value': 'UCU5wVT1czp0hCJIDihcPgNw'}, 'canRate': True, 'viewerRating': 'none', 'likeCount': 8, 'publishedAt': '2023-06-25T15:54:50Z', 'updatedAt': '2023-06-25T15:54:50Z'}}, 'canReply': True, 'totalReplyCount': 1, 'isPublic': True}}, {'kind': 'youtube#commentThread', 'etag': 'Ucnd5DsRAWRpdOWzK5OgC-sBotA', 'id': 'Ugx1dxVbd2UHfjsweKJ4AaABAg', 'snippet': {'videoId': 'kEYiXE7OgwY', 'topLevelComment': {'kind': 'youtube#comment', 'etag': '6jJx4JqsoNa58WE4frRzYobuSyw', 'id': 'Ugx1dxVbd2UHfjsweKJ4AaABAg', 'snippet': {'videoId': 'kEYiXE7OgwY', 'textDisplay': 'One thing is certain… never a war has ever before been fought by such advanced age soldiers…', 'textOriginal': 'One thing is certain… never a war has ever before been fought by such advanced age soldiers…', 'authorDisplayName': 'Mac Maniac', 'authorProfileImageUrl': 'https://yt3.ggpht.com/ytc/AOPolaTvhkJN3RrzioZGW3F3QfJbZdb53NpIfbglyg=s48-c-k-c0x00ffffff-no-rj', 'authorChannelUrl': 'http://www.youtube.com/channel/UCz0J7zEk3o9v67sXKckAmzw', 'authorChannelId': {'value': 'UCz0J7zEk3o9v67sXKckAmzw'}, 'canRate': True, 'viewerRating': 'none', 'likeCount': 5, 'publishedAt': '2023-06-26T14:26:31Z', 'updatedAt': '2023-06-26T14:26:31Z'}}, 'canReply': True, 'totalReplyCount': 3, 'isPublic': True}}, {'kind': 'youtube#commentThread', 'etag': 'wSUba00McsDHXE1xZt9c-75iyLk', 'id': 'UgwRQf-euJ8quYQzV5d4AaABAg', 'snippet': {'videoId': 'kEYiXE7OgwY', 'topLevelComment': {'kind': 'youtube#comment', 'etag': 'okS0orGDT08xYGFhl9ULPtZ0cyw', 'id': 'UgwRQf-euJ8quYQzV5d4AaABAg', 'snippet': {'videoId': 'kEYiXE7OgwY', 'textDisplay': 'Thank you for putting the date on your &quot; show &quot; !  Many &quot; news sources seem to avoid this decency ? <br>   Thank you again .', 'textOriginal': 'Thank you for putting the date on your \" show \" !  Many \" news sources seem to avoid this decency ? \\n   Thank you again .', 'authorDisplayName': 'George Miller', 'authorProfileImageUrl': 'https://yt3.ggpht.com/ytc/AOPolaR1E686x6Z3Eyrr0uc1M7Q7O-7wk2qJHolQuctn81dxWmRrGb4BMOyge5uLXM4o=s48-c-k-c0x00ffffff-no-rj', 'authorChannelUrl': 'http://www.youtube.com/channel/UCuSC2dQ2AmXRrsjMigshg8Q', 'authorChannelId': {'value': 'UCuSC2dQ2AmXRrsjMigshg8Q'}, 'canRate': True, 'viewerRating': 'none', 'likeCount': 4, 'publishedAt': '2023-06-29T22:25:41Z', 'updatedAt': '2023-06-29T22:25:41Z'}}, 'canReply': True, 'totalReplyCount': 0, 'isPublic': True}}, {'kind': 'youtube#commentThread', 'etag': '_2GuMmIbZ08zWCknRJ8zOvwOxQw', 'id': 'UgzVi00M-WO2hNYJH554AaABAg', 'snippet': {'videoId': 'kEYiXE7OgwY', 'topLevelComment': {'kind': 'youtube#comment', 'etag': 'POu5_AdMPF68ZdpsQpnaUhX3dz0', 'id': 'UgzVi00M-WO2hNYJH554AaABAg', 'snippet': {'videoId': 'kEYiXE7OgwY', 'textDisplay': 'Having a dictator’s illusion of absolute power broken is often the beginning of the end for that dictatorship.  Here on YT, you can see Ceaușescu’s last live speech, where he commanded a large yelling crowd to be silent and sit down, and for the first time….the huge majority just kept shouting him down.', 'textOriginal': 'Having a dictator’s illusion of absolute power broken is often the beginning of the end for that dictatorship.  Here on YT, you can see Ceaușescu’s last live speech, where he commanded a large yelling crowd to be silent and sit down, and for the first time….the huge majority just kept shouting him down.', 'authorDisplayName': 'Vidalion', 'authorProfileImageUrl': 'https://yt3.ggpht.com/ytc/AOPolaRS-diqWQoNJ7zl-MTTScfxNQVLsKKPYxLT=s48-c-k-c0x00ffffff-no-rj', 'authorChannelUrl': 'http://www.youtube.com/channel/UCOoROHvNf_9n2qz889xV5MQ', 'authorChannelId': {'value': 'UCOoROHvNf_9n2qz889xV5MQ'}, 'canRate': True, 'viewerRating': 'none', 'likeCount': 13, 'publishedAt': '2023-06-26T04:42:46Z', 'updatedAt': '2023-06-26T04:42:46Z'}}, 'canReply': True, 'totalReplyCount': 1, 'isPublic': True}}, {'kind': 'youtube#commentThread', 'etag': 'AVod6aC4HIRUsJrrqC3wuD7Y55k', 'id': 'Ugxz0zAiNaxvve5AyHl4AaABAg', 'snippet': {'videoId': 'kEYiXE7OgwY', 'topLevelComment': {'kind': 'youtube#comment', 'etag': 'kYoqC9ard5n7szk3YVO98gaXQO8', 'id': 'Ugxz0zAiNaxvve5AyHl4AaABAg', 'snippet': {'videoId': 'kEYiXE7OgwY', 'textDisplay': '&quot;From the perspective of an audience member, I have immense respect and appreciation for the rubber duck rescue team&#39;s relentless dedication and hard work. Your commitment to your mission brings greater meaning, friendship, and significance to our lives. The extent of your efforts is absolutely heartwarming, and I sincerely hope that you overcome every obstacle in your path. My heart goes out to all the families involved, and I can&#39;t fathom how terrifying this must be. Know that your work is a blessing, and I&#39;m here to support you.&quot;', 'textOriginal': '\"From the perspective of an audience member, I have immense respect and appreciation for the rubber duck rescue team\\'s relentless dedication and hard work. Your commitment to your mission brings greater meaning, friendship, and significance to our lives. The extent of your efforts is absolutely heartwarming, and I sincerely hope that you overcome every obstacle in your path. My heart goes out to all the families involved, and I can\\'t fathom how terrifying this must be. Know that your work is a blessing, and I\\'m here to support you.\"', 'authorDisplayName': 'Tricky 🇬🇧', 'authorProfileImageUrl': 'https://yt3.ggpht.com/7Ir_U5kY91Aeef_jdjGrsmowAHMP-TAf1O6mypZJGxmlcdb3CXzP2zA_k8htOstMpN8AnOJZlQ=s48-c-k-c0x00ffffff-no-rj', 'authorChannelUrl': 'http://www.youtube.com/channel/UCMi2DkqHhzAPmNTzFywUzJg', 'authorChannelId': {'value': 'UCMi2DkqHhzAPmNTzFywUzJg'}, 'canRate': True, 'viewerRating': 'none', 'likeCount': 688, 'publishedAt': '2023-06-25T09:32:06Z', 'updatedAt': '2023-06-25T09:32:06Z'}}, 'canReply': True, 'totalReplyCount': 33, 'isPublic': True}}, {'kind': 'youtube#commentThread', 'etag': 'e-KVdf-6S8iIqGKx5dbv7s4WeCc', 'id': 'UgxJttUpm0BDD0vrmRp4AaABAg', 'snippet': {'videoId': 'kEYiXE7OgwY', 'topLevelComment': {'kind': 'youtube#comment', 'etag': 'vJftRgsSn_8FjbC-zU8dBI1dosA', 'id': 'UgxJttUpm0BDD0vrmRp4AaABAg', 'snippet': {'videoId': 'kEYiXE7OgwY', 'textDisplay': 'The shortest civil war in history', 'textOriginal': 'The shortest civil war in history', 'authorDisplayName': 'kreative Oras', 'authorProfileImageUrl': 'https://yt3.ggpht.com/ytc/AOPolaQammkBPX5JFRgPkrKc_02701l6Dl4xli2OUgt5UQ=s48-c-k-c0x00ffffff-no-rj', 'authorChannelUrl': 'http://www.youtube.com/channel/UC1o9CiRNJKGaLUWnLp8MeSw', 'authorChannelId': {'value': 'UC1o9CiRNJKGaLUWnLp8MeSw'}, 'canRate': True, 'viewerRating': 'none', 'likeCount': 685, 'publishedAt': '2023-06-25T12:23:29Z', 'updatedAt': '2023-06-25T12:23:29Z'}}, 'canReply': True, 'totalReplyCount': 88, 'isPublic': True}}, {'kind': 'youtube#commentThread', 'etag': 'MGfspEaIiavyPkF9QLWLl_1dVSw', 'id': 'UgzhFYwZ8fICG1H8teF4AaABAg', 'snippet': {'videoId': 'kEYiXE7OgwY', 'topLevelComment': {'kind': 'youtube#comment', 'etag': 'SGqz2O49oUwMdxpKTwjBCbpHzZY', 'id': 'UgzhFYwZ8fICG1H8teF4AaABAg', 'snippet': {'videoId': 'kEYiXE7OgwY', 'textDisplay': 'I never thought I would be alive in this day and age to witness a war so close to home. I know it is Western centric but as a Westerner, of course we&#39;re going to feel more and be more worried about a Western war. It&#39;s just unthinkable and the danger level here with nuclear options cannot be understated. It&#39;s terrifying and so sad. I hope Ukraine wins, gets all its land back including Crimea and no nuclear disaster happens, I hope Putin is eliminated and the Russian people can be free from their dictatorship.', 'textOriginal': \"I never thought I would be alive in this day and age to witness a war so close to home. I know it is Western centric but as a Westerner, of course we're going to feel more and be more worried about a Western war. It's just unthinkable and the danger level here with nuclear options cannot be understated. It's terrifying and so sad. I hope Ukraine wins, gets all its land back including Crimea and no nuclear disaster happens, I hope Putin is eliminated and the Russian people can be free from their dictatorship.\", 'authorDisplayName': 'Maria', 'authorProfileImageUrl': 'https://yt3.ggpht.com/VKscd22J8FM588nJ4JNfR04huKaCIB909CAkPZOf22ruP2sWEERihjDfOmgDsPlt70W0HQYW=s48-c-k-c0x00ffffff-no-rj', 'authorChannelUrl': 'http://www.youtube.com/channel/UCzflmsN0c5gESIxVAG7JnXg', 'authorChannelId': {'value': 'UCzflmsN0c5gESIxVAG7JnXg'}, 'canRate': True, 'viewerRating': 'none', 'likeCount': 47, 'publishedAt': '2023-06-25T15:11:56Z', 'updatedAt': '2023-06-25T15:11:56Z'}}, 'canReply': True, 'totalReplyCount': 32, 'isPublic': True}}]}\n"
     ]
    }
   ],
   "source": [
    "\n",
    "# Fetching the comments from youtube using unique video ID associated with every video\n",
    "os.environ[\"OAUTHLIB_INSECURE_TRANSPORT\"] = \"1\"\n",
    "\n",
    "api_service_name = \"youtube\"\n",
    "api_version = \"v3\"\n",
    "DEVELOPER_KEY = \\"\n",
    "\n",
    "youtube = googleapiclient.discovery.build(\n",
    "    api_service_name, api_version, developerKey = DEVELOPER_KEY)\n",
    "\n",
    "request = youtube.commentThreads().list(\n",
    "    part=\"snippet\",\n",
    "    order=\"relevance\",\n",
    "    textFormat=\"html\",\n",
    "    videoId=\"kEYiXE7OgwY\"\n",
    "    )\n",
    "response = request.execute()\n",
    "\n",
    "print(response)\n",
    "\n"
   ]
  },
  {
   "cell_type": "code",
   "execution_count": null,
   "metadata": {
    "colab": {
     "base_uri": "https://localhost:8080/",
     "height": 677
    },
    "id": "fvTcSxIXKoTx",
    "outputId": "167fa42d-81af-42d2-f771-20b9de6ff51e"
   },
   "outputs": [
    {
     "data": {
      "text/html": [
       "\n",
       "\n",
       "  <div id=\"df-d7449b9f-2f5a-486a-870e-7dc784754d37\">\n",
       "    <div class=\"colab-df-container\">\n",
       "      <div>\n",
       "<style scoped>\n",
       "    .dataframe tbody tr th:only-of-type {\n",
       "        vertical-align: middle;\n",
       "    }\n",
       "\n",
       "    .dataframe tbody tr th {\n",
       "        vertical-align: top;\n",
       "    }\n",
       "\n",
       "    .dataframe thead th {\n",
       "        text-align: right;\n",
       "    }\n",
       "</style>\n",
       "<table border=\"1\" class=\"dataframe\">\n",
       "  <thead>\n",
       "    <tr style=\"text-align: right;\">\n",
       "      <th></th>\n",
       "      <th>Comments</th>\n",
       "    </tr>\n",
       "  </thead>\n",
       "  <tbody>\n",
       "    <tr>\n",
       "      <th>Light of the World</th>\n",
       "      <td>This insurrection gives hope to my uncle, who ...</td>\n",
       "    </tr>\n",
       "    <tr>\n",
       "      <th>René Hasselmeier</th>\n",
       "      <td>To loose a Loved one is hard at all time, yet ...</td>\n",
       "    </tr>\n",
       "    <tr>\n",
       "      <th>RzN</th>\n",
       "      <td>Prigozhin was never openly critical of the Put...</td>\n",
       "    </tr>\n",
       "    <tr>\n",
       "      <th>Kayi Tribe</th>\n",
       "      <td>My condolences go out to his family for the ac...</td>\n",
       "    </tr>\n",
       "    <tr>\n",
       "      <th>ReyLis</th>\n",
       "      <td>This is the only chaos I saw where the locals ...</td>\n",
       "    </tr>\n",
       "    <tr>\n",
       "      <th>penitent2401</th>\n",
       "      <td>Prigozhin wasn't against Putin, at least not o...</td>\n",
       "    </tr>\n",
       "    <tr>\n",
       "      <th>Moutton Noir</th>\n",
       "      <td>I'm currently reading a book about the 1917 Re...</td>\n",
       "    </tr>\n",
       "    <tr>\n",
       "      <th>Myla Rutledge</th>\n",
       "      <td>Bravo Prigozhin, you started it, and someone s...</td>\n",
       "    </tr>\n",
       "    <tr>\n",
       "      <th>zaini abdullah</th>\n",
       "      <td>\"I believed that certain individuals could be ...</td>\n",
       "    </tr>\n",
       "    <tr>\n",
       "      <th>Parrot Brand</th>\n",
       "      <td>Nothing is worse than starting something risky...</td>\n",
       "    </tr>\n",
       "    <tr>\n",
       "      <th>Jonathan Strange</th>\n",
       "      <td>I hope the injured Aleksander is okay, and rec...</td>\n",
       "    </tr>\n",
       "    <tr>\n",
       "      <th>User says</th>\n",
       "      <td>i mean this is pretty much common throughout h...</td>\n",
       "    </tr>\n",
       "    <tr>\n",
       "      <th>Roman Russian</th>\n",
       "      <td>In the Voronezh region of Russia, 19 houses we...</td>\n",
       "    </tr>\n",
       "    <tr>\n",
       "      <th>James Pardue</th>\n",
       "      <td>Fantastic reporting, thanks to all involved, t...</td>\n",
       "    </tr>\n",
       "    <tr>\n",
       "      <th>Mac Maniac</th>\n",
       "      <td>One thing is certain… never a war has ever bef...</td>\n",
       "    </tr>\n",
       "    <tr>\n",
       "      <th>George Miller</th>\n",
       "      <td>Thank you for putting the date on your \" show ...</td>\n",
       "    </tr>\n",
       "    <tr>\n",
       "      <th>Vidalion</th>\n",
       "      <td>Having a dictator’s illusion of absolute power...</td>\n",
       "    </tr>\n",
       "    <tr>\n",
       "      <th>Tricky 🇬🇧</th>\n",
       "      <td>\"From the perspective of an audience member, I...</td>\n",
       "    </tr>\n",
       "    <tr>\n",
       "      <th>kreative Oras</th>\n",
       "      <td>The shortest civil war in history</td>\n",
       "    </tr>\n",
       "    <tr>\n",
       "      <th>Maria</th>\n",
       "      <td>I never thought I would be alive in this day a...</td>\n",
       "    </tr>\n",
       "  </tbody>\n",
       "</table>\n",
       "</div>\n",
       "      <button class=\"colab-df-convert\" onclick=\"convertToInteractive('df-d7449b9f-2f5a-486a-870e-7dc784754d37')\"\n",
       "              title=\"Convert this dataframe to an interactive table.\"\n",
       "              style=\"display:none;\">\n",
       "\n",
       "  <svg xmlns=\"http://www.w3.org/2000/svg\" height=\"24px\"viewBox=\"0 0 24 24\"\n",
       "       width=\"24px\">\n",
       "    <path d=\"M0 0h24v24H0V0z\" fill=\"none\"/>\n",
       "    <path d=\"M18.56 5.44l.94 2.06.94-2.06 2.06-.94-2.06-.94-.94-2.06-.94 2.06-2.06.94zm-11 1L8.5 8.5l.94-2.06 2.06-.94-2.06-.94L8.5 2.5l-.94 2.06-2.06.94zm10 10l.94 2.06.94-2.06 2.06-.94-2.06-.94-.94-2.06-.94 2.06-2.06.94z\"/><path d=\"M17.41 7.96l-1.37-1.37c-.4-.4-.92-.59-1.43-.59-.52 0-1.04.2-1.43.59L10.3 9.45l-7.72 7.72c-.78.78-.78 2.05 0 2.83L4 21.41c.39.39.9.59 1.41.59.51 0 1.02-.2 1.41-.59l7.78-7.78 2.81-2.81c.8-.78.8-2.07 0-2.86zM5.41 20L4 18.59l7.72-7.72 1.47 1.35L5.41 20z\"/>\n",
       "  </svg>\n",
       "      </button>\n",
       "\n",
       "\n",
       "\n",
       "    <div id=\"df-ae0e5723-755c-40ab-b411-d742fc09bd66\">\n",
       "      <button class=\"colab-df-quickchart\" onclick=\"quickchart('df-ae0e5723-755c-40ab-b411-d742fc09bd66')\"\n",
       "              title=\"Suggest charts.\"\n",
       "              style=\"display:none;\">\n",
       "\n",
       "<svg xmlns=\"http://www.w3.org/2000/svg\" height=\"24px\"viewBox=\"0 0 24 24\"\n",
       "     width=\"24px\">\n",
       "    <g>\n",
       "        <path d=\"M19 3H5c-1.1 0-2 .9-2 2v14c0 1.1.9 2 2 2h14c1.1 0 2-.9 2-2V5c0-1.1-.9-2-2-2zM9 17H7v-7h2v7zm4 0h-2V7h2v10zm4 0h-2v-4h2v4z\"/>\n",
       "    </g>\n",
       "</svg>\n",
       "      </button>\n",
       "    </div>\n",
       "\n",
       "<style>\n",
       "  .colab-df-quickchart {\n",
       "    background-color: #E8F0FE;\n",
       "    border: none;\n",
       "    border-radius: 50%;\n",
       "    cursor: pointer;\n",
       "    display: none;\n",
       "    fill: #1967D2;\n",
       "    height: 32px;\n",
       "    padding: 0 0 0 0;\n",
       "    width: 32px;\n",
       "  }\n",
       "\n",
       "  .colab-df-quickchart:hover {\n",
       "    background-color: #E2EBFA;\n",
       "    box-shadow: 0px 1px 2px rgba(60, 64, 67, 0.3), 0px 1px 3px 1px rgba(60, 64, 67, 0.15);\n",
       "    fill: #174EA6;\n",
       "  }\n",
       "\n",
       "  [theme=dark] .colab-df-quickchart {\n",
       "    background-color: #3B4455;\n",
       "    fill: #D2E3FC;\n",
       "  }\n",
       "\n",
       "  [theme=dark] .colab-df-quickchart:hover {\n",
       "    background-color: #434B5C;\n",
       "    box-shadow: 0px 1px 3px 1px rgba(0, 0, 0, 0.15);\n",
       "    filter: drop-shadow(0px 1px 2px rgba(0, 0, 0, 0.3));\n",
       "    fill: #FFFFFF;\n",
       "  }\n",
       "</style>\n",
       "\n",
       "    <script>\n",
       "      async function quickchart(key) {\n",
       "        const containerElement = document.querySelector('#' + key);\n",
       "        const charts = await google.colab.kernel.invokeFunction(\n",
       "            'suggestCharts', [key], {});\n",
       "      }\n",
       "    </script>\n",
       "\n",
       "      <script>\n",
       "\n",
       "function displayQuickchartButton(domScope) {\n",
       "  let quickchartButtonEl =\n",
       "    domScope.querySelector('#df-ae0e5723-755c-40ab-b411-d742fc09bd66 button.colab-df-quickchart');\n",
       "  quickchartButtonEl.style.display =\n",
       "    google.colab.kernel.accessAllowed ? 'block' : 'none';\n",
       "}\n",
       "\n",
       "        displayQuickchartButton(document);\n",
       "      </script>\n",
       "      <style>\n",
       "    .colab-df-container {\n",
       "      display:flex;\n",
       "      flex-wrap:wrap;\n",
       "      gap: 12px;\n",
       "    }\n",
       "\n",
       "    .colab-df-convert {\n",
       "      background-color: #E8F0FE;\n",
       "      border: none;\n",
       "      border-radius: 50%;\n",
       "      cursor: pointer;\n",
       "      display: none;\n",
       "      fill: #1967D2;\n",
       "      height: 32px;\n",
       "      padding: 0 0 0 0;\n",
       "      width: 32px;\n",
       "    }\n",
       "\n",
       "    .colab-df-convert:hover {\n",
       "      background-color: #E2EBFA;\n",
       "      box-shadow: 0px 1px 2px rgba(60, 64, 67, 0.3), 0px 1px 3px 1px rgba(60, 64, 67, 0.15);\n",
       "      fill: #174EA6;\n",
       "    }\n",
       "\n",
       "    [theme=dark] .colab-df-convert {\n",
       "      background-color: #3B4455;\n",
       "      fill: #D2E3FC;\n",
       "    }\n",
       "\n",
       "    [theme=dark] .colab-df-convert:hover {\n",
       "      background-color: #434B5C;\n",
       "      box-shadow: 0px 1px 3px 1px rgba(0, 0, 0, 0.15);\n",
       "      filter: drop-shadow(0px 1px 2px rgba(0, 0, 0, 0.3));\n",
       "      fill: #FFFFFF;\n",
       "    }\n",
       "  </style>\n",
       "\n",
       "      <script>\n",
       "        const buttonEl =\n",
       "          document.querySelector('#df-d7449b9f-2f5a-486a-870e-7dc784754d37 button.colab-df-convert');\n",
       "        buttonEl.style.display =\n",
       "          google.colab.kernel.accessAllowed ? 'block' : 'none';\n",
       "\n",
       "        async function convertToInteractive(key) {\n",
       "          const element = document.querySelector('#df-d7449b9f-2f5a-486a-870e-7dc784754d37');\n",
       "          const dataTable =\n",
       "            await google.colab.kernel.invokeFunction('convertToInteractive',\n",
       "                                                     [key], {});\n",
       "          if (!dataTable) return;\n",
       "\n",
       "          const docLinkHtml = 'Like what you see? Visit the ' +\n",
       "            '<a target=\"_blank\" href=https://colab.research.google.com/notebooks/data_table.ipynb>data table notebook</a>'\n",
       "            + ' to learn more about interactive tables.';\n",
       "          element.innerHTML = '';\n",
       "          dataTable['output_type'] = 'display_data';\n",
       "          await google.colab.output.renderOutput(dataTable, element);\n",
       "          const docLink = document.createElement('div');\n",
       "          docLink.innerHTML = docLinkHtml;\n",
       "          element.appendChild(docLink);\n",
       "        }\n",
       "      </script>\n",
       "    </div>\n",
       "  </div>\n"
      ],
      "text/plain": [
       "                                                             Comments\n",
       "Light of the World  This insurrection gives hope to my uncle, who ...\n",
       "René Hasselmeier    To loose a Loved one is hard at all time, yet ...\n",
       "RzN                 Prigozhin was never openly critical of the Put...\n",
       "Kayi Tribe          My condolences go out to his family for the ac...\n",
       "ReyLis              This is the only chaos I saw where the locals ...\n",
       "penitent2401        Prigozhin wasn't against Putin, at least not o...\n",
       "Moutton Noir        I'm currently reading a book about the 1917 Re...\n",
       "Myla Rutledge       Bravo Prigozhin, you started it, and someone s...\n",
       "zaini abdullah      \"I believed that certain individuals could be ...\n",
       "Parrot Brand        Nothing is worse than starting something risky...\n",
       "Jonathan Strange    I hope the injured Aleksander is okay, and rec...\n",
       "User says           i mean this is pretty much common throughout h...\n",
       "Roman Russian       In the Voronezh region of Russia, 19 houses we...\n",
       "James Pardue        Fantastic reporting, thanks to all involved, t...\n",
       "Mac Maniac          One thing is certain… never a war has ever bef...\n",
       "George Miller       Thank you for putting the date on your \" show ...\n",
       "Vidalion            Having a dictator’s illusion of absolute power...\n",
       "Tricky 🇬🇧           \"From the perspective of an audience member, I...\n",
       "kreative Oras                       The shortest civil war in history\n",
       "Maria               I never thought I would be alive in this day a..."
      ]
     },
     "execution_count": 85,
     "metadata": {},
     "output_type": "execute_result"
    }
   ],
   "source": [
    "#Converting the raw form of comments into pandas DataFrame\n",
    "import pandas as pd\n",
    "def create_pandas_df():\n",
    "  user = []\n",
    "  Comments = []\n",
    "  for i in range(len(response[\"items\"])):\n",
    "    user.append(response[\"items\"][i][\"snippet\"][\"topLevelComment\"][\"snippet\"][\"authorDisplayName\"])\n",
    "    Comments.append(response[\"items\"][i][\"snippet\"][\"topLevelComment\"][\"snippet\"][\"textOriginal\"])\n",
    "  df = pd.DataFrame(Comments, index = user,columns=[\"Comments\"])\n",
    "  return df\n",
    "df = create_pandas_df()\n",
    "df\n"
   ]
  },
  {
   "cell_type": "code",
   "execution_count": null,
   "metadata": {
    "id": "_50jgu-gRtyA"
   },
   "outputs": [],
   "source": [
    "# Preprocessing the fetched comments\n",
    "# Removing emojis, special characters, blank spaces , etc.\n",
    "import re\n",
    "def cleaning_comments(comment):\n",
    "  comment = re.sub(\"[🤣|🤭|🤣|😁|🤭|❤️|👍|🏴|😣|😠|💪|🙏|😢|🤩|🔥|😭|💯|🏆|😂|💁|🌾|😎|♥|🤷‍♂]+\",'',comment)\n",
    "  comment = re.sub(\"[0-9]+\",\"\",comment)\n",
    "  comment = re.sub(\"[\\(|\\-|\\”|\\“|\\#|\\!|\\/|\\«|\\»|\\&\\:|\\@|\\)|\\*|\\.|\\$|\\!|\\?|\\,|\\%|\\\"]+\",\" \",comment)\n",
    "  comment = re.sub(\"\\n\",\" \",comment)\n",
    "  comment = re.sub('[\\'|🇵🇰|\\;|\\！]+','',comment)\n",
    "  return comment\n",
    "df[\"Comments\"]= df[\"Comments\"].apply(cleaning_comments)"
   ]
  },
  {
   "cell_type": "code",
   "execution_count": null,
   "metadata": {
    "id": "flotqOW-ZDlZ"
   },
   "outputs": [],
   "source": [
    "# converting all comments into lower case\n",
    "lower = lambda comment: comment.lower()\n",
    "df['Comments'] = df['Comments'].apply(lower)\n"
   ]
  },
  {
   "cell_type": "code",
   "execution_count": null,
   "metadata": {
    "id": "CK_uDJzcZZog"
   },
   "outputs": [],
   "source": [
    "# Removing '0' length comments from the DataFrame\n",
    "def remove_comments(df):\n",
    "  zero_length_comments = df[df[\"Comments\"].map(len) == 0]\n",
    "  zero_length_comments_index = [ind for ind in zero_length_comments.index]\n",
    "  df.drop(zero_length_comments_index, inplace = True)\n",
    "  return df\n",
    "\n",
    "df = remove_comments(df)"
   ]
  },
  {
   "cell_type": "code",
   "execution_count": null,
   "metadata": {
    "id": "DAeU1SVb8fDR"
   },
   "outputs": [],
   "source": [
    "# Copying the fetched comments from youtube into a empty cvs file named as 'youtube dynamic.csv'\n",
    "df.to_csv('/content/youtube dynamic.csv')"
   ]
  },
  {
   "cell_type": "code",
   "execution_count": null,
   "metadata": {
    "colab": {
     "base_uri": "https://localhost:8080/"
    },
    "id": "Mcqqf36pnP5H",
    "outputId": "25405003-444b-4b20-f057-9ada415458f6"
   },
   "outputs": [
    {
     "name": "stdout",
     "output_type": "stream",
     "text": [
      "Requirement already satisfied: pyspark in /usr/local/lib/python3.10/dist-packages (3.4.1)\n",
      "Requirement already satisfied: py4j==0.10.9.7 in /usr/local/lib/python3.10/dist-packages (from pyspark) (0.10.9.7)\n"
     ]
    }
   ],
   "source": [
    "!pip install pyspark"
   ]
  },
  {
   "cell_type": "code",
   "execution_count": null,
   "metadata": {
    "id": "hA30KoT7btYn"
   },
   "outputs": [],
   "source": [
    "from pyspark.sql.types import *\n",
    "from pyspark.sql.functions import *\n",
    "from pyspark.ml.classification import LogisticRegression\n",
    "from pyspark.ml.feature import HashingTF, Tokenizer, StopWordsRemover\n",
    "from pyspark.sql import SparkSession\n"
   ]
  },
  {
   "cell_type": "code",
   "execution_count": null,
   "metadata": {
    "id": "Alsvc4hVQcDG"
   },
   "outputs": [],
   "source": [
    "# Creating a Spark Session\n",
    "appName = \"YouTube comment's Sentiment Analysis in Spark\"\n",
    "spark = SparkSession \\\n",
    "    .builder \\\n",
    "    .appName(appName) \\\n",
    "    .config(\"spark.some.config.option\", \"some-value\") \\\n",
    "    .getOrCreate()"
   ]
  },
  {
   "cell_type": "code",
   "execution_count": null,
   "metadata": {
    "colab": {
     "base_uri": "https://localhost:8080/"
    },
    "id": "fnsgNdPSRF9d",
    "outputId": "ee4a4fd1-c581-4604-b5c1-d9b3fec26a93"
   },
   "outputs": [
    {
     "name": "stdout",
     "output_type": "stream",
     "text": [
      "+---+------------+----------+-------------------------------------------------------------------------------------------------------------------------------------------------------------------------------------------------------------------------------------------------------------------------------------------------------------------------+-----+\n",
      "|_c0|Unnamed: 0.1|Unnamed: 0|comments                                                                                                                                                                                                                                                                                                                 |Label|\n",
      "+---+------------+----------+-------------------------------------------------------------------------------------------------------------------------------------------------------------------------------------------------------------------------------------------------------------------------------------------------------------------------+-----+\n",
      "|0  |0           |0         |huh  anyway check out this you[tube] channel  kobyoshi                                                                                                                                                                                                                                                                   |1    |\n",
      "|1  |1           |1         |hey guys check out my new channel and our first vid this is us the  monkeys  im the monkey in the white shirt please leave a like comment  and please subscribe                                                                                                                                                          |1    |\n",
      "|2  |2           |2         |just for test i have to say murdev com                                                                                                                                                                                                                                                                                   |1    |\n",
      "|3  |3           |3         |me shaking my sexy ass on my channel enjoy  _  ﻿                                                                                                                                                                                                                                                                         |1    |\n",
      "|4  |4           |4         |watch v vtarggvgtwq   check this out  ﻿                                                                                                                                                                                                                                                                                  |1    |\n",
      "|5  |5           |5         |hey  check out my new website  this site is about kids stuff  kidsmediausa    com                                                                                                                                                                                                                                        |1    |\n",
      "|6  |6           |6         |subscribe to my channel ﻿                                                                                                                                                                                                                                                                                                |1    |\n",
      "|7  |7           |7         |i turned it on mute as soon is i came on i just wanted to check the  views ﻿                                                                                                                                                                                                                                             |0    |\n",
      "|8  |8           |8         |you should check my channel for funny videos ﻿                                                                                                                                                                                                                                                                           |1    |\n",
      "|9  |9           |9         |and u should d check my channel and tell me what i should do next ﻿                                                                                                                                                                                                                                                      |1    |\n",
      "|10 |10          |10        |hey subscribe to me﻿                                                                                                                                                                                                                                                                                                     |1    |\n",
      "|11 |11          |11        |once you have started reading do not stop  if you do not subscribe to me  within one day you and youre entire family will die so if you want to stay  alive subscribe right now ﻿                                                                                                                                        |1    |\n",
      "|12 |12          |12        |https twitter comgbphotographygb﻿                                                                                                                                                                                                                                                                                        |1    |\n",
      "|13 |13          |13        |subscribe like comment﻿                                                                                                                                                                                                                                                                                                  |1    |\n",
      "|14 |14          |14        |please like  d https premium easypromosapp comvoteme﻿                                                                                                                                                                                                                                                                    |1    |\n",
      "|15 |15          |15        |hello  do you like gaming  art videos  scientific experiments  tutorials   lyrics videos  and much  much more of that  if you do please check out our  channel and subscribe to it  weve just started  but soon we hope we will  be able to cover all of our expectations  you can also check out what  weve got so far ﻿|1    |\n",
      "|16 |16          |16        |im only checking the views﻿                                                                                                                                                                                                                                                                                              |0    |\n",
      "|17 |17          |17        |http www ebay comitm sspagename strk meselx itamp_trksid p m l ﻿                                                                                                                                                                                                                                                         |1    |\n",
      "|18 |18          |18        |http ubuntuone combeuutvuzkxkutgpzk﻿                                                                                                                                                                                                                                                                                     |1    |\n",
      "|19 |19          |19        |we are an edm apparel company dedicated to bringing you music inspired  designs  our clothing is perfect for any rave or music festival  we have  neon crop tops  tank tops  tshirts  vnecks and accessories  follow us on  facebook or on instagraml for free giveaways news and more  visit our site  at oncueapparel﻿ |1    |\n",
      "+---+------------+----------+-------------------------------------------------------------------------------------------------------------------------------------------------------------------------------------------------------------------------------------------------------------------------------------------------------------------------+-----+\n",
      "only showing top 20 rows\n",
      "\n"
     ]
    }
   ],
   "source": [
    "# Reading a dataset for training\n",
    "comments_data_csv = spark.read.csv('/content/dataset.csv', inferSchema=True, header=True)\n",
    "comments_data_csv.show(truncate=False, n=20)"
   ]
  },
  {
   "cell_type": "code",
   "execution_count": null,
   "metadata": {
    "colab": {
     "base_uri": "https://localhost:8080/"
    },
    "id": "ST-J8BxS3EEB",
    "outputId": "d6b7cf58-ab63-463f-8f36-b87cb86a5cc9"
   },
   "outputs": [
    {
     "name": "stdout",
     "output_type": "stream",
     "text": [
      "+---------------------------------------------------------------------------------------------------------------------------------------------------------------+-----+\n",
      "|comments                                                                                                                                                       |Label|\n",
      "+---------------------------------------------------------------------------------------------------------------------------------------------------------------+-----+\n",
      "|huh  anyway check out this you[tube] channel  kobyoshi                                                                                                         |1    |\n",
      "|hey guys check out my new channel and our first vid this is us the  monkeys  im the monkey in the white shirt please leave a like comment  and please subscribe|1    |\n",
      "|just for test i have to say murdev com                                                                                                                         |1    |\n",
      "|me shaking my sexy ass on my channel enjoy  _  ﻿                                                                                                               |1    |\n",
      "|watch v vtarggvgtwq   check this out  ﻿                                                                                                                        |1    |\n",
      "+---------------------------------------------------------------------------------------------------------------------------------------------------------------+-----+\n",
      "only showing top 5 rows\n",
      "\n"
     ]
    }
   ],
   "source": [
    "# Selecting relevent attributes from the dataset\n",
    "comments_data_csv = comments_data_csv.select(\"comments\", \"Label\")\n",
    "comments_data_csv.show(truncate = False,n=5)"
   ]
  },
  {
   "cell_type": "code",
   "execution_count": null,
   "metadata": {
    "colab": {
     "base_uri": "https://localhost:8080/"
    },
    "id": "ZfYkjf1T4QIs",
    "outputId": "2443edd4-e91d-4f7e-86c6-5a4c941d3eea"
   },
   "outputs": [
    {
     "name": "stdout",
     "output_type": "stream",
     "text": [
      "Training data rows: 1393 ; Testing data rows: 561\n"
     ]
    }
   ],
   "source": [
    "# Spliting the dataset into 70-30 ration for training and testing purpose\n",
    "dividedData = comments_data_csv.randomSplit([0.7, 0.3])\n",
    "trainingData = dividedData[0]\n",
    "testingData = dividedData[1]\n",
    "train_rows = trainingData.count()\n",
    "test_rows = testingData.count()\n",
    "print (\"Training data rows:\", train_rows, \"; Testing data rows:\", test_rows)"
   ]
  },
  {
   "cell_type": "code",
   "execution_count": null,
   "metadata": {
    "colab": {
     "base_uri": "https://localhost:8080/"
    },
    "id": "EoLTXK7r4UaM",
    "outputId": "1a349484-fdc2-45a3-c86a-504235bca128"
   },
   "outputs": [
    {
     "name": "stdout",
     "output_type": "stream",
     "text": [
      "+--------------------+-----+--------------------+\n",
      "|            comments|Label|      SentimentWords|\n",
      "+--------------------+-----+--------------------+\n",
      "|+ lovely girl tal...|    1|[+, lovely, girl,...|\n",
      "|a  friend of mine...|    1|[a, , friend, of,...|\n",
      "|a href  http www ...|    1|[a, href, , http,...|\n",
      "|a href  http www ...|    0|[a, href, , http,...|\n",
      "|a href  https m f...|    1|[a, href, , https...|\n",
      "|a href  https m f...|    1|[a, href, , https...|\n",
      "|a href  https www...|    1|[a, href, , https...|\n",
      "|a rel  nofollow  ...|    1|[a, rel, , nofoll...|\n",
      "|abomination  subs...|    1|[abomination, , s...|\n",
      "|adam b beats chec...|    1|[adam, b, beats, ...|\n",
      "|add me here https...|    1|[add, me, here, h...|\n",
      "|        adf ly  kldy|    1|   [adf, ly, , kldy]|\n",
      "|        adf ly  kldy|    1|   [adf, ly, , kldy]|\n",
      "|admit it you just...|    0|[admit, it, you, ...|\n",
      "|ah  good old time...|    0|[ah, , good, old,...|\n",
      "|  ahhh   years ago ﻿|    0|[ahhh, , , years,...|\n",
      "|all u should go c...|    1|[all, u, should, ...|\n",
      "|    almost  billion﻿|    0|[almost, , billion﻿]|\n",
      "|almost to a billi...|    0|[almost, to, a, b...|\n",
      "|also luckymusiqli...|    1|[also, luckymusiq...|\n",
      "+--------------------+-----+--------------------+\n",
      "only showing top 20 rows\n",
      "\n"
     ]
    }
   ],
   "source": [
    "# Converting each comment into indiviual elements known as tokens\n",
    "tokenizer = Tokenizer(inputCol=\"comments\", outputCol=\"SentimentWords\")\n",
    "tokenizedTrain = tokenizer.transform(trainingData)\n",
    "tokenizedTrain.show(truncate=True)"
   ]
  },
  {
   "cell_type": "code",
   "execution_count": null,
   "metadata": {
    "colab": {
     "base_uri": "https://localhost:8080/"
    },
    "id": "TO0IqzR24aXf",
    "outputId": "41a55aad-5067-43df-b0fd-1655494a0ba7"
   },
   "outputs": [
    {
     "name": "stdout",
     "output_type": "stream",
     "text": [
      "+--------------------+-----+--------------------+--------------------+\n",
      "|            comments|Label|      SentimentWords|     MeaningfulWords|\n",
      "+--------------------+-----+--------------------+--------------------+\n",
      "|+ lovely girl tal...|    1|[+, lovely, girl,...|[+, lovely, girl,...|\n",
      "|a  friend of mine...|    1|[a, , friend, of,...|[, friend, mine, ...|\n",
      "|a href  http www ...|    1|[a, href, , http,...|[href, , http, ww...|\n",
      "|a href  http www ...|    0|[a, href, , http,...|[href, , http, ww...|\n",
      "|a href  https m f...|    1|[a, href, , https...|[href, , https, m...|\n",
      "+--------------------+-----+--------------------+--------------------+\n",
      "only showing top 5 rows\n",
      "\n"
     ]
    }
   ],
   "source": [
    "# Removing stop words such as i, a, an, the\n",
    "swr = StopWordsRemover(inputCol=tokenizer.getOutputCol(),\n",
    "                       outputCol=\"MeaningfulWords\")\n",
    "SwRemovedTrain = swr.transform(tokenizedTrain)\n",
    "SwRemovedTrain.show(truncate=True, n=5)"
   ]
  },
  {
   "cell_type": "code",
   "execution_count": null,
   "metadata": {
    "colab": {
     "base_uri": "https://localhost:8080/"
    },
    "id": "N9j2ELZU4cXU",
    "outputId": "cd48c0b8-b2b0-4813-e7eb-ddddf264e4a8"
   },
   "outputs": [
    {
     "name": "stdout",
     "output_type": "stream",
     "text": [
      "+-----+--------------------+--------------------+\n",
      "|label|     MeaningfulWords|            features|\n",
      "+-----+--------------------+--------------------+\n",
      "|    1|[+, lovely, girl,...|(262144,[13781,72...|\n",
      "|    1|[, friend, mine, ...|(262144,[1546,206...|\n",
      "|    1|[href, , http, ww...|(262144,[4978,556...|\n",
      "+-----+--------------------+--------------------+\n",
      "only showing top 3 rows\n",
      "\n"
     ]
    }
   ],
   "source": [
    "# Converting each seperate token into numerical feature\n",
    "hashTF = HashingTF(inputCol=swr.getOutputCol(), outputCol=\"features\")\n",
    "numericTrainData = hashTF.transform(SwRemovedTrain).select(\n",
    "    'label', 'MeaningfulWords', 'features')\n",
    "numericTrainData.show(truncate=True, n=3)"
   ]
  },
  {
   "cell_type": "code",
   "execution_count": null,
   "metadata": {
    "id": "JFCpnX3h4exs"
   },
   "outputs": [],
   "source": [
    "# Training the model using logistic regression\n",
    "lr = LogisticRegression(labelCol=\"label\", featuresCol=\"features\",\n",
    "                        maxIter=10, regParam=0.01)\n",
    "model = lr.fit(numericTrainData)"
   ]
  },
  {
   "cell_type": "code",
   "execution_count": null,
   "metadata": {
    "colab": {
     "base_uri": "https://localhost:8080/"
    },
    "id": "8KX8u0ss4gsy",
    "outputId": "0d377109-6dc0-4808-b5fb-eedd54712178"
   },
   "outputs": [
    {
     "name": "stdout",
     "output_type": "stream",
     "text": [
      "+-----+--------------------+--------------------+\n",
      "|Label|     MeaningfulWords|            features|\n",
      "+-----+--------------------+--------------------+\n",
      "|    1|[adam, b, beats, ...|(262144,[4757,110...|\n",
      "|    1|     [adf, ly, kldy]|(262144,[86237,12...|\n",
      "+-----+--------------------+--------------------+\n",
      "only showing top 2 rows\n",
      "\n"
     ]
    }
   ],
   "source": [
    "# Testing the model using testData\n",
    "tokenizedTest = tokenizer.transform(testingData)\n",
    "SwRemovedTest = swr.transform(tokenizedTest)\n",
    "numericTest = hashTF.transform(SwRemovedTest).select(\n",
    "    'Label', 'MeaningfulWords', 'features')\n",
    "numericTest.show(truncate=True, n=2)"
   ]
  },
  {
   "cell_type": "code",
   "execution_count": null,
   "metadata": {
    "colab": {
     "base_uri": "https://localhost:8080/"
    },
    "id": "IeoalVKt4jch",
    "outputId": "ed190751-aee4-4d69-dc65-8333dc8f69e0"
   },
   "outputs": [
    {
     "name": "stdout",
     "output_type": "stream",
     "text": [
      "+--------------------+----------+-----+\n",
      "|     MeaningfulWords|prediction|Label|\n",
      "+--------------------+----------+-----+\n",
      "|[adam, b, beats, ...|       1.0|    1|\n",
      "|     [adf, ly, kldy]|       1.0|    1|\n",
      "|[ahhh, back, life...|       0.0|    0|\n",
      "|[school, drop, ou...|       1.0|    1|\n",
      "+--------------------+----------+-----+\n",
      "only showing top 4 rows\n",
      "\n",
      "correct prediction: 512 , total data: 561 , accuracy: 0.9126559714795008\n"
     ]
    }
   ],
   "source": [
    "# Testing the model using testData\n",
    "prediction = model.transform(numericTest)\n",
    "predictionFinal = prediction.select(\n",
    "    \"MeaningfulWords\", \"prediction\", \"Label\")\n",
    "predictionFinal.show(n=4, truncate = True)\n",
    "correctPrediction = predictionFinal.filter(\n",
    "    predictionFinal['prediction'] == predictionFinal['Label']).count()\n",
    "totalData = predictionFinal.count()\n",
    "print(\"correct prediction:\", correctPrediction, \", total data:\", totalData,\n",
    "      \", accuracy:\", correctPrediction/totalData)"
   ]
  },
  {
   "cell_type": "code",
   "execution_count": null,
   "metadata": {
    "colab": {
     "base_uri": "https://localhost:8080/"
    },
    "id": "MjPyGcTPTDRN",
    "outputId": "bf777268-eeff-4075-8950-022978779084"
   },
   "outputs": [
    {
     "name": "stdout",
     "output_type": "stream",
     "text": [
      "+--------------------+\n",
      "|            Comments|\n",
      "+--------------------+\n",
      "|this insurrection...|\n",
      "|to loose a loved ...|\n",
      "|prigozhin was nev...|\n",
      "+--------------------+\n",
      "only showing top 3 rows\n",
      "\n"
     ]
    }
   ],
   "source": [
    "# Applying the model on the fetched comments\n",
    "test = spark.read.csv('/content/youtube dynamic.csv', inferSchema=True, header=True)\n",
    "test = test.select(\"Comments\")\n",
    "test.show(truncate=True, n=3)"
   ]
  },
  {
   "cell_type": "code",
   "execution_count": null,
   "metadata": {
    "colab": {
     "base_uri": "https://localhost:8080/"
    },
    "id": "A7BG2Flh4rCW",
    "outputId": "9dfe21ea-24b5-41f3-bf99-3b7eb27bb282"
   },
   "outputs": [
    {
     "name": "stdout",
     "output_type": "stream",
     "text": [
      "+--------------------+--------------------+\n",
      "|            Comments|            features|\n",
      "+--------------------+--------------------+\n",
      "|this insurrection...|(262144,[14072,49...|\n",
      "|to loose a loved ...|(262144,[2437,218...|\n",
      "+--------------------+--------------------+\n",
      "only showing top 2 rows\n",
      "\n"
     ]
    }
   ],
   "source": [
    "# Performing all the required tasks on the comments to predict the sentiment\n",
    "tokenizer = Tokenizer(inputCol=\"Comments\", outputCol=\"SentimentWords\")\n",
    "tokenizedTest = tokenizer.transform(test)\n",
    "SwRemovedTest = swr.transform(tokenizedTest)\n",
    "numericTest = hashTF.transform(SwRemovedTest).select(\n",
    "    'Comments', 'features')\n",
    "numericTest.show(truncate = True, n=2)"
   ]
  },
  {
   "cell_type": "code",
   "execution_count": null,
   "metadata": {
    "colab": {
     "base_uri": "https://localhost:8080/"
    },
    "id": "NCGwvl3yciWQ",
    "outputId": "72e7c693-4e8a-49fc-b028-99897921f121"
   },
   "outputs": [
    {
     "name": "stdout",
     "output_type": "stream",
     "text": [
      "+--------------------+----------+\n",
      "|            Comments|prediction|\n",
      "+--------------------+----------+\n",
      "|this insurrection...|       0.0|\n",
      "|to loose a loved ...|       0.0|\n",
      "|prigozhin was nev...|       1.0|\n",
      "|my condolences go...|       1.0|\n",
      "|this is the only ...|       0.0|\n",
      "|prigozhin wasnt a...|       0.0|\n",
      "|im currently read...|       0.0|\n",
      "|bravo prigozhin  ...|       0.0|\n",
      "| i believed that ...|       1.0|\n",
      "|nothing is worse ...|       0.0|\n",
      "|i hope the injure...|       1.0|\n",
      "|i mean this is pr...|       0.0|\n",
      "+--------------------+----------+\n",
      "only showing top 12 rows\n",
      "\n"
     ]
    }
   ],
   "source": [
    "# Predicting the sentiment\n",
    "prediction = model.transform(numericTest)\n",
    "predictionFinal = prediction.select(\n",
    "    \"Comments\", \"prediction\")\n",
    "predictionFinal.show(n=12, truncate = True)\n",
    "totalData = predictionFinal.count()"
   ]
  },
  {
   "cell_type": "code",
   "execution_count": null,
   "metadata": {
    "id": "TY15y_RawMLy"
   },
   "outputs": [],
   "source": []
  }
 ],
 "metadata": {
  "colab": {
   "provenance": []
  },
  "kernelspec": {
   "display_name": "Python 3 (ipykernel)",
   "language": "python",
   "name": "python3"
  },
  "language_info": {
   "codemirror_mode": {
    "name": "ipython",
    "version": 3
   },
   "file_extension": ".py",
   "mimetype": "text/x-python",
   "name": "python",
   "nbconvert_exporter": "python",
   "pygments_lexer": "ipython3",
   "version": "3.9.12"
  }
 },
 "nbformat": 4,
 "nbformat_minor": 1
}
